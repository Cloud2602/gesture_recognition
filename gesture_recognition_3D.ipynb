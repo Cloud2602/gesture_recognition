{
  "nbformat": 4,
  "nbformat_minor": 0,
  "metadata": {
    "colab": {
      "provenance": [],
      "include_colab_link": true
    },
    "kernelspec": {
      "name": "python3",
      "display_name": "Python 3"
    },
    "language_info": {
      "name": "python"
    }
  },
  "cells": [
    {
      "cell_type": "markdown",
      "metadata": {
        "id": "view-in-github",
        "colab_type": "text"
      },
      "source": [
        "<a href=\"https://colab.research.google.com/github/Cloud2602/gesture_recognition/blob/main/gesture_recognition_3D.ipynb\" target=\"_parent\"><img src=\"https://colab.research.google.com/assets/colab-badge.svg\" alt=\"Open In Colab\"/></a>"
      ]
    },
    {
      "cell_type": "code",
      "source": [
        "#Scaricare e aprire acquisizioni.zip\n",
        "from google.colab import drive\n",
        "drive.mount('/content/drive')\n",
        "!unzip -q \"/content/drive/MyDrive/acquisizioni.zip\" -d \"/content/dataset\""
      ],
      "metadata": {
        "id": "V6hS3z6hdmvp",
        "colab": {
          "base_uri": "https://localhost:8080/"
        },
        "outputId": "d095b4d7-d16f-46e0-b81e-fac02c024344"
      },
      "execution_count": 2,
      "outputs": [
        {
          "output_type": "stream",
          "name": "stdout",
          "text": [
            "Mounted at /content/drive\n"
          ]
        }
      ]
    },
    {
      "cell_type": "code",
      "source": [
        "%%bash\n",
        "pip install mediapipe"
      ],
      "metadata": {
        "id": "TLW1p1IJdjYW",
        "colab": {
          "base_uri": "https://localhost:8080/"
        },
        "outputId": "a1bb90f4-85ea-481d-eac6-f8f4022bb66d"
      },
      "execution_count": 6,
      "outputs": [
        {
          "output_type": "stream",
          "name": "stdout",
          "text": [
            "Requirement already satisfied: mediapipe in /usr/local/lib/python3.11/dist-packages (0.10.21)\n",
            "Requirement already satisfied: absl-py in /usr/local/lib/python3.11/dist-packages (from mediapipe) (1.4.0)\n",
            "Requirement already satisfied: attrs>=19.1.0 in /usr/local/lib/python3.11/dist-packages (from mediapipe) (25.3.0)\n",
            "Requirement already satisfied: flatbuffers>=2.0 in /usr/local/lib/python3.11/dist-packages (from mediapipe) (25.2.10)\n",
            "Requirement already satisfied: jax in /usr/local/lib/python3.11/dist-packages (from mediapipe) (0.5.2)\n",
            "Requirement already satisfied: jaxlib in /usr/local/lib/python3.11/dist-packages (from mediapipe) (0.5.1)\n",
            "Requirement already satisfied: matplotlib in /usr/local/lib/python3.11/dist-packages (from mediapipe) (3.10.0)\n",
            "Requirement already satisfied: numpy<2 in /usr/local/lib/python3.11/dist-packages (from mediapipe) (1.26.4)\n",
            "Requirement already satisfied: opencv-contrib-python in /usr/local/lib/python3.11/dist-packages (from mediapipe) (4.11.0.86)\n",
            "Requirement already satisfied: protobuf<5,>=4.25.3 in /usr/local/lib/python3.11/dist-packages (from mediapipe) (4.25.7)\n",
            "Requirement already satisfied: sounddevice>=0.4.4 in /usr/local/lib/python3.11/dist-packages (from mediapipe) (0.5.2)\n",
            "Requirement already satisfied: sentencepiece in /usr/local/lib/python3.11/dist-packages (from mediapipe) (0.2.0)\n",
            "Requirement already satisfied: CFFI>=1.0 in /usr/local/lib/python3.11/dist-packages (from sounddevice>=0.4.4->mediapipe) (1.17.1)\n",
            "Requirement already satisfied: ml_dtypes>=0.4.0 in /usr/local/lib/python3.11/dist-packages (from jax->mediapipe) (0.4.1)\n",
            "Requirement already satisfied: opt_einsum in /usr/local/lib/python3.11/dist-packages (from jax->mediapipe) (3.4.0)\n",
            "Requirement already satisfied: scipy>=1.11.1 in /usr/local/lib/python3.11/dist-packages (from jax->mediapipe) (1.15.3)\n",
            "Requirement already satisfied: contourpy>=1.0.1 in /usr/local/lib/python3.11/dist-packages (from matplotlib->mediapipe) (1.3.2)\n",
            "Requirement already satisfied: cycler>=0.10 in /usr/local/lib/python3.11/dist-packages (from matplotlib->mediapipe) (0.12.1)\n",
            "Requirement already satisfied: fonttools>=4.22.0 in /usr/local/lib/python3.11/dist-packages (from matplotlib->mediapipe) (4.58.0)\n",
            "Requirement already satisfied: kiwisolver>=1.3.1 in /usr/local/lib/python3.11/dist-packages (from matplotlib->mediapipe) (1.4.8)\n",
            "Requirement already satisfied: packaging>=20.0 in /usr/local/lib/python3.11/dist-packages (from matplotlib->mediapipe) (24.2)\n",
            "Requirement already satisfied: pillow>=8 in /usr/local/lib/python3.11/dist-packages (from matplotlib->mediapipe) (11.2.1)\n",
            "Requirement already satisfied: pyparsing>=2.3.1 in /usr/local/lib/python3.11/dist-packages (from matplotlib->mediapipe) (3.2.3)\n",
            "Requirement already satisfied: python-dateutil>=2.7 in /usr/local/lib/python3.11/dist-packages (from matplotlib->mediapipe) (2.9.0.post0)\n",
            "Requirement already satisfied: pycparser in /usr/local/lib/python3.11/dist-packages (from CFFI>=1.0->sounddevice>=0.4.4->mediapipe) (2.22)\n",
            "Requirement already satisfied: six>=1.5 in /usr/local/lib/python3.11/dist-packages (from python-dateutil>=2.7->matplotlib->mediapipe) (1.17.0)\n"
          ]
        }
      ]
    },
    {
      "cell_type": "code",
      "execution_count": null,
      "metadata": {
        "id": "CbfRT6g2dOkU"
      },
      "outputs": [],
      "source": [
        "import os\n",
        "import numpy as np\n",
        "import cv2\n",
        "import mediapipe as mp\n",
        "import csv\n",
        "\n",
        "# MediaPipe setup\n",
        "mp_hands = mp.solutions.hands\n",
        "hands = mp_hands.Hands(\n",
        "    static_image_mode=True,\n",
        "    max_num_hands=1,\n",
        ")\n",
        "\n",
        "# Percorsi\n",
        "DATASET_DIR = \"/content/3\"  # Cambia se necessario\n",
        "output_npy = \"landmarks.npy\"\n",
        "output_labels = \"labels.npy\"\n",
        "output_csv = \"landmarks.csv\"\n",
        "\n",
        "# Output\n",
        "all_landmarks = []\n",
        "all_labels = []\n",
        "\n",
        "# Mapping label\n",
        "label_map = {\n",
        "    \"1\": 1,\n",
        "    \"2\": 2,\n",
        "    \"tre\": 3,\n",
        "    \"0\": 0\n",
        "}\n",
        "\n",
        "# CSV setup\n",
        "csv_file = open(output_csv, mode='w', newline='')\n",
        "csv_writer = csv.writer(csv_file)\n",
        "\n",
        "# Header\n",
        "header = [f'{dim}{i}' for i in range(21) for dim in ['x', 'y', 'z']]\n",
        "header.append('label')\n",
        "csv_writer.writerow(header)\n",
        "\n",
        "# Contatori\n",
        "total_images = 0\n",
        "processed_images = 0\n",
        "skipped_images = 0\n",
        "\n",
        "# Scansiona le sottocartelle\n",
        "for class_name in sorted(os.listdir(DATASET_DIR)):\n",
        "    print(f\"✔️ Cartella: {class_name}\")\n",
        "    class_path = os.path.join(DATASET_DIR, class_name)\n",
        "    if not os.path.isdir(class_path):\n",
        "        continue\n",
        "\n",
        "    if class_name not in label_map:\n",
        "        print(f\"⚠️ La cartella '{class_name}' non ha una label definita. Saltata.\")\n",
        "        continue\n",
        "    label = label_map[class_name]\n",
        "\n",
        "    for filename in os.listdir(class_path):\n",
        "        print(filename)\n",
        "        if not filename.endswith('_Color.png'):\n",
        "            continue  # ⛔ Salta file che non terminano in _Color.png\n",
        "\n",
        "        total_images += 1\n",
        "\n",
        "        image_path = os.path.join(class_path, filename)\n",
        "        image = cv2.imread(image_path)\n",
        "        if image is None:\n",
        "            print(f\"❌ Errore nel caricamento di: {image_path}\")\n",
        "            skipped_images += 1\n",
        "            continue\n",
        "\n",
        "        # Converti BGR in RGB per MediaPipe\n",
        "        image_rgb = cv2.cvtColor(image, cv2.COLOR_BGR2RGB)\n",
        "        results = hands.process(image_rgb)\n",
        "\n",
        "        if results.multi_hand_landmarks:\n",
        "            hand = results.multi_hand_landmarks[0]\n",
        "            landmarks = []\n",
        "            for lm in hand.landmark:\n",
        "                landmarks.extend([lm.x, lm.y, lm.z])\n",
        "            all_landmarks.append(landmarks)\n",
        "            all_labels.append(label)\n",
        "            csv_writer.writerow(landmarks + [label])\n",
        "            processed_images += 1\n",
        "        else:\n",
        "            print(f\"🙈 Nessuna mano rilevata in: {image_path}\")\n",
        "            skipped_images += 1\n",
        "\n",
        "# Cleanup\n",
        "csv_file.close()\n",
        "hands.close()\n",
        "\n",
        "np.save(output_npy, np.array(all_landmarks))\n",
        "np.save(output_labels, np.array(all_labels))\n",
        "\n",
        "# Report finale\n",
        "print(f\"\\n✅ Salvati: {output_npy}, {output_labels}, {output_csv}\")\n",
        "print(f\"📊 Totale immagini trovate: {total_images}\")\n",
        "print(f\"👌 Immagini elaborate con successo: {processed_images}\")\n",
        "print(f\"🚫 Immagini scartate (errore o mano non rilevata): {skipped_images}\")\n"
      ]
    },
    {
      "cell_type": "code",
      "source": [
        "!pip uninstall -y mediapipe\n",
        "!pip install mediapipe==0.10.9"
      ],
      "metadata": {
        "colab": {
          "base_uri": "https://localhost:8080/"
        },
        "id": "cUTUWj7YqWJq",
        "outputId": "6915dd22-67de-4950-be43-6a37f854bfca"
      },
      "execution_count": 1,
      "outputs": [
        {
          "output_type": "stream",
          "name": "stdout",
          "text": [
            "Found existing installation: mediapipe 0.10.9\n",
            "Uninstalling mediapipe-0.10.9:\n",
            "  Successfully uninstalled mediapipe-0.10.9\n",
            "Collecting mediapipe==0.10.9\n",
            "  Using cached mediapipe-0.10.9-cp311-cp311-manylinux_2_17_x86_64.manylinux2014_x86_64.whl.metadata (9.6 kB)\n",
            "Requirement already satisfied: absl-py in /usr/local/lib/python3.11/dist-packages (from mediapipe==0.10.9) (1.4.0)\n",
            "Requirement already satisfied: attrs>=19.1.0 in /usr/local/lib/python3.11/dist-packages (from mediapipe==0.10.9) (25.3.0)\n",
            "Requirement already satisfied: flatbuffers>=2.0 in /usr/local/lib/python3.11/dist-packages (from mediapipe==0.10.9) (25.2.10)\n",
            "Requirement already satisfied: matplotlib in /usr/local/lib/python3.11/dist-packages (from mediapipe==0.10.9) (3.10.0)\n",
            "Requirement already satisfied: numpy in /usr/local/lib/python3.11/dist-packages (from mediapipe==0.10.9) (1.26.4)\n",
            "Requirement already satisfied: opencv-contrib-python in /usr/local/lib/python3.11/dist-packages (from mediapipe==0.10.9) (4.11.0.86)\n",
            "Requirement already satisfied: protobuf<4,>=3.11 in /usr/local/lib/python3.11/dist-packages (from mediapipe==0.10.9) (3.20.3)\n",
            "Requirement already satisfied: sounddevice>=0.4.4 in /usr/local/lib/python3.11/dist-packages (from mediapipe==0.10.9) (0.5.2)\n",
            "Requirement already satisfied: CFFI>=1.0 in /usr/local/lib/python3.11/dist-packages (from sounddevice>=0.4.4->mediapipe==0.10.9) (1.17.1)\n",
            "Requirement already satisfied: contourpy>=1.0.1 in /usr/local/lib/python3.11/dist-packages (from matplotlib->mediapipe==0.10.9) (1.3.2)\n",
            "Requirement already satisfied: cycler>=0.10 in /usr/local/lib/python3.11/dist-packages (from matplotlib->mediapipe==0.10.9) (0.12.1)\n",
            "Requirement already satisfied: fonttools>=4.22.0 in /usr/local/lib/python3.11/dist-packages (from matplotlib->mediapipe==0.10.9) (4.58.0)\n",
            "Requirement already satisfied: kiwisolver>=1.3.1 in /usr/local/lib/python3.11/dist-packages (from matplotlib->mediapipe==0.10.9) (1.4.8)\n",
            "Requirement already satisfied: packaging>=20.0 in /usr/local/lib/python3.11/dist-packages (from matplotlib->mediapipe==0.10.9) (24.2)\n",
            "Requirement already satisfied: pillow>=8 in /usr/local/lib/python3.11/dist-packages (from matplotlib->mediapipe==0.10.9) (11.2.1)\n",
            "Requirement already satisfied: pyparsing>=2.3.1 in /usr/local/lib/python3.11/dist-packages (from matplotlib->mediapipe==0.10.9) (3.2.3)\n",
            "Requirement already satisfied: python-dateutil>=2.7 in /usr/local/lib/python3.11/dist-packages (from matplotlib->mediapipe==0.10.9) (2.9.0.post0)\n",
            "Requirement already satisfied: pycparser in /usr/local/lib/python3.11/dist-packages (from CFFI>=1.0->sounddevice>=0.4.4->mediapipe==0.10.9) (2.22)\n",
            "Requirement already satisfied: six>=1.5 in /usr/local/lib/python3.11/dist-packages (from python-dateutil>=2.7->matplotlib->mediapipe==0.10.9) (1.17.0)\n",
            "Using cached mediapipe-0.10.9-cp311-cp311-manylinux_2_17_x86_64.manylinux2014_x86_64.whl (34.5 MB)\n",
            "Installing collected packages: mediapipe\n",
            "Successfully installed mediapipe-0.10.9\n"
          ]
        }
      ]
    },
    {
      "cell_type": "code",
      "source": [
        "!unzip -q \"/content/dataset-hands.zip\" -d \"/content/dataset_hands\""
      ],
      "metadata": {
        "id": "dYGWawAtvEFo"
      },
      "execution_count": 12,
      "outputs": []
    },
    {
      "cell_type": "code",
      "source": [
        "import os\n",
        "import cv2\n",
        "import mediapipe as mp\n",
        "import numpy as np\n",
        "import csv\n",
        "\n",
        "# Percorsi\n",
        "DATASET_DIR = \"/content/cartella_immagini\"  # Sostituisci con il percorso corretto\n",
        "output_csv = \"landmarks_duemani.csv\"\n",
        "output_npy = \"landmarks_duemani.npy\"\n",
        "\n",
        "# Setup MediaPipe\n",
        "mp_hands = mp.solutions.hands\n",
        "hands = mp_hands.Hands(static_image_mode=True, max_num_hands=2)\n",
        "mp_drawing = mp.solutions.drawing_utils\n",
        "\n",
        "# Output\n",
        "all_landmarks = []\n",
        "# Header aggiornato: mano destra da x0 a z20, mano sinistra da x0_L a z20_L\n",
        "header = []\n",
        "\n",
        "# Mano destra\n",
        "header += [f'{dim}{i}_R' for i in range(21) for dim in ['x', 'y', 'z']]\n",
        "# Mano sinistra\n",
        "header += [f'{dim}{i}_L' for i in range(21) for dim in ['x', 'y', 'z']]\n",
        "\n",
        "with open(output_csv, mode='w', newline='') as csv_file:\n",
        "    csv_writer = csv.writer(csv_file)\n",
        "    csv_writer.writerow(header)\n",
        "\n",
        "    for filename in sorted(os.listdir(DATASET_DIR)):\n",
        "        if not filename.endswith(\"_Color.png\"):\n",
        "            continue\n",
        "\n",
        "        image_path = os.path.join(DATASET_DIR, filename)\n",
        "        image_bgr = cv2.imread(image_path)\n",
        "        if image_bgr is None:\n",
        "            print(f\"❌ Errore caricamento: {filename}\")\n",
        "            continue\n",
        "\n",
        "        image_rgb = cv2.cvtColor(image_bgr, cv2.COLOR_BGR2RGB)\n",
        "        results = hands.process(image_rgb)\n",
        "\n",
        "        # Landmark inizializzati a zero\n",
        "        right_hand = [0.0] * (21 * 3)\n",
        "        left_hand = [0.0] * (21 * 3)\n",
        "\n",
        "        if results.multi_hand_landmarks and results.multi_handedness:\n",
        "            for hand_landmarks, handedness in zip(results.multi_hand_landmarks, results.multi_handedness):\n",
        "                label = handedness.classification[0].label  # \"Left\" o \"Right\"\n",
        "                landmarks = []\n",
        "                for lm in hand_landmarks.landmark:\n",
        "                    landmarks.extend([lm.x, lm.y, lm.z])\n",
        "                if label == \"Right\":\n",
        "                    right_hand = landmarks\n",
        "                else:\n",
        "                    left_hand = landmarks\n",
        "\n",
        "        # Righe composte da mano destra + mano sinistra\n",
        "        combined = right_hand + left_hand\n",
        "        all_landmarks.append(combined)\n",
        "        csv_writer.writerow(combined)\n",
        "\n",
        "# Salvataggio finale\n",
        "np.save(output_npy, np.array(all_landmarks))\n",
        "print(f\"✅ Landmark salvati in {output_csv} e {output_npy}\")\n"
      ],
      "metadata": {
        "colab": {
          "base_uri": "https://localhost:8080/"
        },
        "id": "f3x3lvCgxFOq",
        "outputId": "9cf0d831-0852-4f08-ed3e-00734b6b2101"
      },
      "execution_count": 21,
      "outputs": [
        {
          "output_type": "stream",
          "name": "stdout",
          "text": [
            "Image path:/content/dataset_hands/dataset-hands/1/57_Color.png , landmarks: [0.0, 0.0, 0.0, 0.0, 0.0, 0.0, 0.0, 0.0, 0.0, 0.0, 0.0, 0.0, 0.0, 0.0, 0.0, 0.0, 0.0, 0.0, 0.0, 0.0, 0.0, 0.0, 0.0, 0.0, 0.0, 0.0, 0.0, 0.0, 0.0, 0.0, 0.0, 0.0, 0.0, 0.0, 0.0, 0.0, 0.0, 0.0, 0.0, 0.0, 0.0, 0.0, 0.0, 0.0, 0.0, 0.0, 0.0, 0.0, 0.0, 0.0, 0.0, 0.0, 0.0, 0.0, 0.0, 0.0, 0.0, 0.0, 0.0, 0.0, 0.0, 0.0, 0.0, 0.26262858510017395, 0.6722155809402466, 3.792995073581551e-08, 0.2760705351829529, 0.6350207328796387, -0.016598574817180634, 0.27879640460014343, 0.5887834429740906, -0.02622239477932453, 0.27215954661369324, 0.5484323501586914, -0.03615563362836838, 0.25154033303260803, 0.525679886341095, -0.045297350734472275, 0.26143282651901245, 0.523405134677887, -0.011440753005445004, 0.2551615536212921, 0.4600355327129364, -0.026482978835701942, 0.25073596835136414, 0.4185112714767456, -0.03590070456266403, 0.24391047656536102, 0.3858872056007385, -0.042232003062963486, 0.23941870033740997, 0.5372450947761536, -0.012446383014321327, 0.22500890493392944, 0.5048104524612427, -0.03699769452214241, 0.2385808229446411, 0.5484843850135803, -0.04137982800602913, 0.24876530468463898, 0.5736418962478638, -0.03740977123379707, 0.22174185514450073, 0.5585041046142578, -0.015625568106770515, 0.20903263986110687, 0.5359082818031311, -0.037619151175022125, 0.22690759599208832, 0.5706160068511963, -0.03007124364376068, 0.2379196286201477, 0.5892940759658813, -0.018534276634454727, 0.20806314051151276, 0.5849305391311646, -0.02072223834693432, 0.19913768768310547, 0.5684390068054199, -0.03408408910036087, 0.21367120742797852, 0.5878342390060425, -0.026975547894835472, 0.2241775542497635, 0.5987597107887268, -0.017417939379811287]\n",
            "✅ Landmark salvati in:\n",
            " - landmarks_unica_immagine.csv\n",
            " - landmarks_unica_immagine.npy\n"
          ]
        }
      ]
    }
  ]
}