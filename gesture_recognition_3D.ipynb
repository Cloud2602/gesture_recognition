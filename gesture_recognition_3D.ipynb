{
  "nbformat": 4,
  "nbformat_minor": 0,
  "metadata": {
    "colab": {
      "provenance": [],
      "include_colab_link": true
    },
    "kernelspec": {
      "name": "python3",
      "display_name": "Python 3"
    },
    "language_info": {
      "name": "python"
    }
  },
  "cells": [
    {
      "cell_type": "markdown",
      "metadata": {
        "id": "view-in-github",
        "colab_type": "text"
      },
      "source": [
        "<a href=\"https://colab.research.google.com/github/Cloud2602/gesture_recognition/blob/main/gesture_recognition_3D.ipynb\" target=\"_parent\"><img src=\"https://colab.research.google.com/assets/colab-badge.svg\" alt=\"Open In Colab\"/></a>"
      ]
    },
    {
      "cell_type": "code",
      "source": [
        "#Scaricare e aprire acquisizioni.zip\n",
        "from google.colab import drive\n",
        "drive.mount('/content/drive')\n",
        "!unzip -q \"/content/drive/MyDrive/acquisizioni.zip\" -d \"/content/dataset\""
      ],
      "metadata": {
        "id": "V6hS3z6hdmvp",
        "colab": {
          "base_uri": "https://localhost:8080/"
        },
        "outputId": "0682c05e-a39f-4fee-b89e-01801fcc9d95"
      },
      "execution_count": null,
      "outputs": [
        {
          "output_type": "stream",
          "name": "stdout",
          "text": [
            "Drive already mounted at /content/drive; to attempt to forcibly remount, call drive.mount(\"/content/drive\", force_remount=True).\n"
          ]
        }
      ]
    },
    {
      "cell_type": "code",
      "source": [
        "%%bash\n",
        "pip install mediapipe"
      ],
      "metadata": {
        "id": "TLW1p1IJdjYW"
      },
      "execution_count": null,
      "outputs": []
    },
    {
      "cell_type": "code",
      "source": [
        "!git clone https://github.com/Cloud2602/gesture_recognition.git\n",
        "!unzip -q \"/content/gesture_recognition/mediapipe_landmarks_two_hands.zip\" -d \"/content/data\"\n"
      ],
      "metadata": {
        "id": "IHJVz74M6UT4",
        "outputId": "55959289-0d89-448f-b2c8-dfa66f5ded21",
        "colab": {
          "base_uri": "https://localhost:8080/"
        }
      },
      "execution_count": 32,
      "outputs": [
        {
          "output_type": "stream",
          "name": "stdout",
          "text": [
            "fatal: destination path 'gesture_recognition' already exists and is not an empty directory.\n"
          ]
        }
      ]
    },
    {
      "cell_type": "code",
      "execution_count": null,
      "metadata": {
        "id": "CbfRT6g2dOkU"
      },
      "outputs": [],
      "source": [
        "import os\n",
        "import numpy as np\n",
        "import cv2\n",
        "import mediapipe as mp\n",
        "import csv\n",
        "\n",
        "# MediaPipe setup\n",
        "mp_hands = mp.solutions.hands\n",
        "hands = mp_hands.Hands(\n",
        "    static_image_mode=True,\n",
        "    max_num_hands=1,\n",
        ")\n",
        "\n",
        "# Percorsi\n",
        "DATASET_DIR = \"/content/3\"  # Cambia se necessario\n",
        "output_npy = \"landmarks.npy\"\n",
        "output_labels = \"labels.npy\"\n",
        "output_csv = \"landmarks.csv\"\n",
        "\n",
        "# Output\n",
        "all_landmarks = []\n",
        "all_labels = []\n",
        "\n",
        "# Mapping label\n",
        "label_map = {\n",
        "    \"1\": 1,\n",
        "    \"2\": 2,\n",
        "    \"tre\": 3,\n",
        "    \"0\": 0\n",
        "}\n",
        "\n",
        "# CSV setup\n",
        "csv_file = open(output_csv, mode='w', newline='')\n",
        "csv_writer = csv.writer(csv_file)\n",
        "\n",
        "# Header\n",
        "header = [f'{dim}{i}' for i in range(21) for dim in ['x', 'y', 'z']]\n",
        "header.append('label')\n",
        "csv_writer.writerow(header)\n",
        "\n",
        "# Contatori\n",
        "total_images = 0\n",
        "processed_images = 0\n",
        "skipped_images = 0\n",
        "\n",
        "# Scansiona le sottocartelle\n",
        "for class_name in sorted(os.listdir(DATASET_DIR)):\n",
        "    print(f\"✔️ Cartella: {class_name}\")\n",
        "    class_path = os.path.join(DATASET_DIR, class_name)\n",
        "    if not os.path.isdir(class_path):\n",
        "        continue\n",
        "\n",
        "    if class_name not in label_map:\n",
        "        print(f\"⚠️ La cartella '{class_name}' non ha una label definita. Saltata.\")\n",
        "        continue\n",
        "    label = label_map[class_name]\n",
        "\n",
        "    for filename in os.listdir(class_path):\n",
        "        print(filename)\n",
        "        if not filename.endswith('_Color.png'):\n",
        "            continue  # ⛔ Salta file che non terminano in _Color.png\n",
        "\n",
        "        total_images += 1\n",
        "\n",
        "        image_path = os.path.join(class_path, filename)\n",
        "        image = cv2.imread(image_path)\n",
        "        if image is None:\n",
        "            print(f\"❌ Errore nel caricamento di: {image_path}\")\n",
        "            skipped_images += 1\n",
        "            continue\n",
        "\n",
        "        # Converti BGR in RGB per MediaPipe\n",
        "        image_rgb = cv2.cvtColor(image, cv2.COLOR_BGR2RGB)\n",
        "        results = hands.process(image_rgb)\n",
        "\n",
        "        if results.multi_hand_landmarks:\n",
        "            hand = results.multi_hand_landmarks[0]\n",
        "            landmarks = []\n",
        "            for lm in hand.landmark:\n",
        "                landmarks.extend([lm.x, lm.y, lm.z])\n",
        "            all_landmarks.append(landmarks)\n",
        "            all_labels.append(label)\n",
        "            csv_writer.writerow(landmarks + [label])\n",
        "            processed_images += 1\n",
        "        else:\n",
        "            print(f\"🙈 Nessuna mano rilevata in: {image_path}\")\n",
        "            skipped_images += 1\n",
        "\n",
        "# Cleanup\n",
        "csv_file.close()\n",
        "hands.close()\n",
        "\n",
        "np.save(output_npy, np.array(all_landmarks))\n",
        "np.save(output_labels, np.array(all_labels))\n",
        "\n",
        "# Report finale\n",
        "print(f\"\\n✅ Salvati: {output_npy}, {output_labels}, {output_csv}\")\n",
        "print(f\"📊 Totale immagini trovate: {total_images}\")\n",
        "print(f\"👌 Immagini elaborate con successo: {processed_images}\")\n",
        "print(f\"🚫 Immagini scartate (errore o mano non rilevata): {skipped_images}\")\n"
      ]
    },
    {
      "cell_type": "code",
      "source": [
        "import os\n",
        "import numpy as np\n",
        "\n",
        "# === Funzioni di Data Augmentation ===\n",
        "\n",
        "def flip_landmarks(landmarks):\n",
        "    landmarks[:, 0] = 1.0 - landmarks[:, 0]\n",
        "    return landmarks\n",
        "\n",
        "def zoom_landmarks(landmarks, scale=0.8):\n",
        "    center = landmarks[0]\n",
        "    return (landmarks - center) * scale + center\n",
        "\n",
        "def rotate_landmarks(landmarks, angle_deg=15):\n",
        "    angle_rad = np.radians(angle_deg)\n",
        "    center = landmarks[0]\n",
        "    rotation_matrix = np.array([\n",
        "        [np.cos(angle_rad), -np.sin(angle_rad)],\n",
        "        [np.sin(angle_rad),  np.cos(angle_rad)]\n",
        "    ])\n",
        "    rotated = np.dot(landmarks[:, :2] - center[:2], rotation_matrix) + center[:2]\n",
        "    landmarks[:, :2] = rotated\n",
        "    return landmarks\n",
        "\n",
        "def translate_landmarks(landmarks, offset=(0.05, -0.03, 0.0)):\n",
        "    return landmarks + np.array(offset)\n",
        "\n",
        "# === Percorsi da modificare ===\n",
        "input_base_dir = \"/content/data/mediapipe_landmarks_two_hands\"\n",
        "output_base_dir = \"/content/data_augumented\"\n",
        "\n",
        "os.makedirs(output_base_dir, exist_ok=True)\n",
        "\n",
        "# === Elaborazione dei file ===\n",
        "for folder_name in sorted(os.listdir(input_base_dir)):\n",
        "    folder_path = os.path.join(input_base_dir, folder_name)\n",
        "    print(f\"✔️ Cartella: {folder_path}\")\n",
        "\n",
        "\n",
        "    for file_name in os.listdir(folder_path):\n",
        "            if file_name.endswith('.npy'):\n",
        "                print(f\"✔️ File: {file_name}\")\n",
        "                file_path = os.path.join(folder_path, file_name)\n",
        "                landmarks = np.load(file_path)\n",
        "                augmented = []\n",
        "                for i, landmark in enumerate(landmarks):\n",
        "\n",
        "                  landmark = landmark.reshape((42, 3))  # Converti in (42, 3)\n",
        "                  # Lista delle versioni aumentate\n",
        "\n",
        "                  augmented.append(landmark.copy())\n",
        "\n",
        "                  # Flip\n",
        "                  augmented.append(flip_landmarks(landmark.copy()))\n",
        "\n",
        "                  # Zoom out\n",
        "                  augmented.append(zoom_landmarks(landmark.copy(), scale=0.8))\n",
        "\n",
        "                  # Rotazioni\n",
        "                  augmented.append(rotate_landmarks(landmark.copy(), angle_deg=15))\n",
        "                  augmented.append(rotate_landmarks(landmark.copy(), angle_deg=-15))\n",
        "\n",
        "                  # Traslazioni\n",
        "                  augmented.append(translate_landmarks(landmark.copy(), offset=(0.05, -0.03, 0.0)))\n",
        "                  augmented.append(translate_landmarks(landmark.copy(), offset=(-0.05, 0.03, 0.0)))\n",
        "            else:\n",
        "                print(f\"⚠️ File non valido: {file_name}\")\n",
        "\n",
        "    print(\"augumented lenght: \", len(augmented))\n",
        "    new_name = f\"{os.path.splitext(file_name)[0]}_aug.npy\"\n",
        "    save_path = os.path.join(output_base_dir, new_name)\n",
        "    np.save(save_path, augmented)\n",
        "    print(f\"✔️ File salvato: {save_path}\")\n",
        "\n"
      ],
      "metadata": {
        "id": "HQ1mTEUozV4F",
        "outputId": "a37b2ed7-3020-4658-a863-1865b92edc33",
        "colab": {
          "base_uri": "https://localhost:8080/"
        }
      },
      "execution_count": 40,
      "outputs": [
        {
          "output_type": "stream",
          "name": "stdout",
          "text": [
            "✔️ Cartella: /content/data/mediapipe_landmarks_two_hands/0\n",
            "⚠️ File non valido: landmarks_0.csv\n",
            "✔️ File: landmarks_0.npy\n",
            "augumented lenght:  490\n",
            "✔️ File salvato: /content/data_augumented/landmarks_0_aug.npy\n",
            "✔️ Cartella: /content/data/mediapipe_landmarks_two_hands/1\n",
            "✔️ File: landmarks_1.npy\n",
            "⚠️ File non valido: landmarks_1.csv\n",
            "augumented lenght:  490\n",
            "✔️ File salvato: /content/data_augumented/landmarks_1_aug.npy\n",
            "✔️ Cartella: /content/data/mediapipe_landmarks_two_hands/2\n",
            "⚠️ File non valido: landmarks_2.csv\n",
            "✔️ File: landmarks_2.npy\n",
            "augumented lenght:  490\n",
            "✔️ File salvato: /content/data_augumented/landmarks_2_aug.npy\n",
            "✔️ Cartella: /content/data/mediapipe_landmarks_two_hands/3\n",
            "⚠️ File non valido: landmarks_3.csv\n",
            "✔️ File: landmarks_3.npy\n",
            "augumented lenght:  490\n",
            "✔️ File salvato: /content/data_augumented/landmarks_3_aug.npy\n"
          ]
        }
      ]
    },
    {
      "cell_type": "code",
      "source": [
        "import numpy\n",
        "\n",
        "land=numpy.load(\"/content/gesture_recognition/data_augumented/landmarks_0_aug.npy\")\n",
        "X= land[:][0]\n",
        "print(len(X))"
      ],
      "metadata": {
        "id": "Wjn_gjvGE2Vj",
        "outputId": "ac05ac52-cd7c-4b17-d328-fa220f747542",
        "colab": {
          "base_uri": "https://localhost:8080/"
        }
      },
      "execution_count": 57,
      "outputs": [
        {
          "output_type": "stream",
          "name": "stdout",
          "text": [
            "42\n"
          ]
        }
      ]
    }
  ]
}